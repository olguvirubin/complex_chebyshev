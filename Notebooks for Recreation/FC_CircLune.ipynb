{
 "cells": [
  {
   "cell_type": "code",
   "execution_count": null,
   "id": "8a465d96",
   "metadata": {},
   "outputs": [],
   "source": [
    "import numpy as np\n",
    "import matplotlib.pyplot as plt\n",
    "import pickle\n",
    "from time import time\n",
    "from ComCheb import mpRemez,Cheby\n",
    "from ComCheb.Contours import mpCircLune\n",
    "from mpmath import mp\n",
    "mp.pretty = 1\n",
    "\n",
    "\n",
    "storage = dict()"
   ]
  },
  {
   "cell_type": "code",
   "execution_count": null,
   "id": "8dfbebca",
   "metadata": {},
   "outputs": [],
   "source": [
    "## In order to update or refine reload\n",
    "with open('Data/FC_CircLune.pkl','rb') as fp:\n",
    "    storage = pickle.load(fp)"
   ]
  },
  {
   "cell_type": "code",
   "execution_count": null,
   "id": "5b1ab2e7",
   "metadata": {},
   "outputs": [],
   "source": [
    "def FC_coef(n):\n",
    "    F = np.zeros(n+1,dtype='O')\n",
    "    for k in range(n//2+1):\n",
    "        F[n-2*k] = mp.binomial(n,k)*mp.mpf('1/4')**k\n",
    "    return F"
   ]
  },
  {
   "cell_type": "code",
   "execution_count": null,
   "id": "6f306bb4",
   "metadata": {},
   "outputs": [],
   "source": [
    "mp.dps = 60\n",
    "prec   = 1e-40\n",
    "n      = 11\n",
    "alpha  = 0.5\n",
    "R      = np.linspace(1,50,99)\n",
    "F      = FC_coef(n)\n",
    "F      = F[F!=0]\n",
    "\n",
    "t  = None\n",
    "a  = None\n",
    "for r in R:\n",
    "    if r in storage.keys():\n",
    "        t,a = storage[r][:2]\n",
    "    t1 = time()\n",
    "    gamma = mpCircLune(a = alpha, r=r)\n",
    "    t,a,L,h,_ = mpRemez(gamma,n,t=t,a=a,symmetry=2,rc=1,prec=prec,Mmax=1000,reps=40,plot=0,pinfo=0)\n",
    "    \n",
    "    storage[r] = (t,a,L,h,max(abs(F-np.hstack([-L,1]))))\n",
    "    print(r,'  \\t',f'{float(storage[r][-1]):.8e}','\\t',int(time()-t1))\n",
    "\n",
    "\n",
    "with open('Data/FC_CircLune.pkl','wb') as fp:\n",
    "    pickle.dump(storage,fp)"
   ]
  }
 ],
 "metadata": {
  "kernelspec": {
   "display_name": "Python 3",
   "language": "python",
   "name": "python3"
  },
  "language_info": {
   "codemirror_mode": {
    "name": "ipython",
    "version": 3
   },
   "file_extension": ".py",
   "mimetype": "text/x-python",
   "name": "python",
   "nbconvert_exporter": "python",
   "pygments_lexer": "ipython3",
   "version": "3.12.6"
  }
 },
 "nbformat": 4,
 "nbformat_minor": 5
}
