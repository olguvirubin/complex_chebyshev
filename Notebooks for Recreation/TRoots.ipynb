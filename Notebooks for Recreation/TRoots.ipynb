{
 "cells": [
  {
   "cell_type": "code",
   "execution_count": null,
   "id": "e7d487ba",
   "metadata": {},
   "outputs": [],
   "source": [
    "import numpy as np\n",
    "import matplotlib.pyplot as plt\n",
    "import pickle\n",
    "from time import time\n",
    "from ComCheb import mpRemez,Contours,mpRoots\n",
    "from mpmath import mp\n",
    "mp.pretty = 1\n",
    "\n",
    "\n",
    "storage = dict()"
   ]
  },
  {
   "cell_type": "code",
   "execution_count": null,
   "id": "fe5905f2",
   "metadata": {},
   "outputs": [],
   "source": [
    "with open('Data/roots.pkl','rb') as fp:\n",
    "    storage = pickle.load(fp)"
   ]
  },
  {
   "cell_type": "code",
   "execution_count": null,
   "id": "1d83bb9a",
   "metadata": {},
   "outputs": [],
   "source": [
    "ToDo = [('P',3,16),('P',3,62),\n",
    "        ('P',4,17),('P',4,82),\n",
    "        ('P',5,21),('P',5,102),\n",
    "        ('P',6,27),('P',6,122),\n",
    "        ('C',0.5,11),('C',0.5,21),\n",
    "        ('C',1.5,10),('C',1.5,50),\n",
    "        ('H',3,31),('H',3,47),\n",
    "        ('H',4,41),('H',4,62),\n",
    "        ('H',5,51),('H',5,77),\n",
    "        ('H',6,61),('H',6,92),\n",
    "        ('L',1,11),('L',1,41),\n",
    "        ('L',2,11),('L',2,41),\n",
    "        ('E3',1,25),('E3',1,40),\n",
    "        ('E4',5,21),('E4',5,37)]\n",
    "\n",
    "def poly_cap(m,sl=1):   # mpmath implementation of capacity of polygons\n",
    "    m = mp.mpf(m)\n",
    "    return mp.gamma(1/m)/(2**(1+2/m)*mp.pi**0.5*mp.gamma(1/2+1/m))\n",
    "curves = {'P':lambda m: Contours.mpPolygon(m,sl=1/poly_cap(m)),\n",
    "          'C':Contours.mpCircLune,\n",
    "          'H':Contours.mpHypocycloid,\n",
    "          'L':lambda r : Contours.mpLemniscate(r=r),\n",
    "          'E3':lambda var: Contours.mpE3(var),\n",
    "          'E4':lambda r,maxsteps=10000 : Contours.mpE4(r,maxsteps)}"
   ]
  },
  {
   "cell_type": "code",
   "execution_count": null,
   "id": "bcae4610",
   "metadata": {},
   "outputs": [],
   "source": [
    "mp.dps= 50\n",
    "prec  = 1e-30\n",
    "\n",
    "for task in ToDo:\n",
    "    t1 = time()\n",
    "    if task in storage.keys():\n",
    "        t,a = storage[task][:2]\n",
    "    else:\n",
    "        t,a = None,None\n",
    "    g,m,n = task\n",
    "    gamma = curves[g](m)\n",
    "\n",
    "    if g =='L' or g=='C':\n",
    "        symm = 2\n",
    "    elif g=='E3':\n",
    "        symm = 1\n",
    "    elif g=='E4':\n",
    "        symm = 2\n",
    "    else:\n",
    "        symm = m\n",
    "\n",
    "    t,a,L,h,_ = mpRemez(gamma,n,t=t,a=a,symmetry=symm,rc=1,\n",
    "                        prec=prec,Mmax=1000,reps=30,plot=0,pinfo=0,samples=1001)\n",
    "    r = mpRoots(L,n,symm)\n",
    "    storage[task] = (t,a,L,h,r)\n",
    "    print(task,'\\t',int(time()-t1))\n",
    "\n",
    "\n",
    "with open('Data/roots.pkl','wb') as fp:\n",
    "    pickle.dump(storage,fp)\n"
   ]
  }
 ],
 "metadata": {
  "kernelspec": {
   "display_name": "Python 3",
   "language": "python",
   "name": "python3"
  },
  "language_info": {
   "codemirror_mode": {
    "name": "ipython",
    "version": 3
   },
   "file_extension": ".py",
   "mimetype": "text/x-python",
   "name": "python",
   "nbconvert_exporter": "python",
   "pygments_lexer": "ipython3",
   "version": "3.12.6"
  }
 },
 "nbformat": 4,
 "nbformat_minor": 5
}
