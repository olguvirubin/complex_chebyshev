{
 "cells": [
  {
   "cell_type": "code",
   "execution_count": null,
   "metadata": {},
   "outputs": [],
   "source": [
    "import numpy as np\n",
    "import pickle\n",
    "from mpmath import mp\n",
    "from ComCheb import mpRemez,Remez\n",
    "from ComCheb.Contours import mpPolygon,Polygon\n",
    "from time import time\n",
    "mp.pretty = 1\n",
    "\n",
    "# Execute this just once. Sometime the calculations below have to be restarted,\n",
    "# for example in case of bad initial guesses.\n",
    "storage = dict()"
   ]
  },
  {
   "cell_type": "code",
   "execution_count": null,
   "metadata": {},
   "outputs": [],
   "source": [
    "def poly_cap(m,sl=1):   # mpmath implementation of capacity of polygons\n",
    "    m = mp.mpf(m)\n",
    "    return mp.gamma(1/m)/(2**(1+2/m)*mp.pi**0.5*mp.gamma(1/2+1/m))\n",
    "\n",
    "\n",
    "mp.dps = 50\n",
    "M = [3,4,5,6]\n",
    "N = np.arange(1,101)\n",
    "prec = 1e-7\n",
    "print('m    n   \\t\\t ||T||\\t\\t\\t calc time')\n",
    "for m in M:\n",
    "    for n in N:\n",
    "        if (m,n)in storage.keys():\n",
    "            continue\n",
    "        t1             = time()\n",
    "        try:\n",
    "            gamma          = Polygon(m,sl=1/float(poly_cap(m)))\n",
    "            t,a            = Remez(gamma,n,symmetry=m,prec= 1e-5,Mmax=1000,plot=0,pinfo=0,rc=1)[:2]\n",
    "            gamma          = mpPolygon(m,sl=1/(poly_cap(m)))\n",
    "            res            = mpRemez(gamma,n,t,a,symmetry=m,reps=30,prec=prec,plot=0,pinfo=0,Mmax=1000,rc=1)[:-1]\n",
    "        except:\n",
    "            gamma          = mpPolygon(m,sl=1/(poly_cap(m)))\n",
    "            res            = mpRemez(gamma,n,symmetry=m,reps=30,prec=prec,plot=0,pinfo=0,Mmax=1000,rc=1)[:-1]\n",
    "        storage[(m,n)] = res\n",
    "        print(m,'  ',n,'  \\t\\t',f'{float(res[3]):.10f}','\\t\\t',round(time()-t1))\n",
    "\n",
    "# Storing Results!\n",
    "with open('Data/WA_Polygon.pkl','wb') as fp:\n",
    "    pickle.dump(storage,fp)"
   ]
  },
  {
   "cell_type": "code",
   "execution_count": null,
   "metadata": {},
   "outputs": [],
   "source": [
    "# If wanted, load results.\n",
    "with open('Data/WT_Polygon.pkl','rb') as fp:\n",
    "    D = pickle.load(fp)"
   ]
  }
 ],
 "metadata": {
  "kernelspec": {
   "display_name": "Python 3",
   "language": "python",
   "name": "python3"
  },
  "language_info": {
   "codemirror_mode": {
    "name": "ipython",
    "version": 3
   },
   "file_extension": ".py",
   "mimetype": "text/x-python",
   "name": "python",
   "nbconvert_exporter": "python",
   "pygments_lexer": "ipython3",
   "version": "3.12.6"
  }
 },
 "nbformat": 4,
 "nbformat_minor": 2
}
