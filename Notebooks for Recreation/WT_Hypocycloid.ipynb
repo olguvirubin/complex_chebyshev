{
 "cells": [
  {
   "cell_type": "code",
   "execution_count": 1,
   "metadata": {},
   "outputs": [],
   "source": [
    "import numpy as np\n",
    "import pickle\n",
    "from mpmath import mp\n",
    "from CompRem import mpRemez,Remez\n",
    "from CompRem.Contours import mpHypocycloid,Hypocycloid\n",
    "from time import time\n",
    "mp.pretty = 1\n",
    "\n",
    "# Execute this just once. Sometime the calculations below have to be restarted,\n",
    "# for example in case of bad initial guesses.\n",
    "storage = dict()"
   ]
  },
  {
   "cell_type": "code",
   "execution_count": 5,
   "metadata": {},
   "outputs": [
    {
     "name": "stdout",
     "output_type": "stream",
     "text": [
      "m    n   \t\t ||T||\t\t\t calc time\n",
      "6    25   \t\t 1.2664010067 \t\t 22\n",
      "6    50   \t\t 1.1758871190 \t\t 73\n",
      "6    90   \t\t 1.1269258925 \t\t 268\n",
      "6    120   \t\t 1.1086924597 \t\t 427\n"
     ]
    }
   ],
   "source": [
    "mp.dps = 50\n",
    "M = [3,4,5,6]\n",
    "N = [5,10,25,50,90,120]\n",
    "print('m    n   \\t\\t ||T||\\t\\t\\t calc time')\n",
    "for m in M:\n",
    "    for n in N:\n",
    "        if (m,n)in storage.keys():\n",
    "            continue\n",
    "        t1             = time()\n",
    "        #gamma          = Hypocycloid(m)\n",
    "        #t,a            = Remez(gamma,n,symmetry=m,prec= 1e-5,Mmax=1000,plot=0,pinfo=0,rc=1)[:2]\n",
    "        gamma          = mpHypocycloid(m)\n",
    "        res            = mpRemez(gamma,n,symmetry=m,reps=30,prec=1e-10,plot=0,pinfo=0,Mmax=1000,rc=1)[:-1]\n",
    "        storage[(m,n)] = res\n",
    "        print(m,'  ',n,'  \\t\\t',f'{float(res[3]):.10f}','\\t\\t',round(time()-t1))\n",
    "\n",
    "# Storing Results!\n",
    "with open('Data/WT_Hypocycloid.pkl','wb') as fp:\n",
    "    pickle.dump(storage,fp)\n",
    "        "
   ]
  },
  {
   "cell_type": "code",
   "execution_count": null,
   "metadata": {},
   "outputs": [],
   "source": [
    "# If wanted, load results.\n",
    "with open('Data/WT_Hypocycloid.pkl','rb') as fp:\n",
    "    D = pickle.load(fp)"
   ]
  }
 ],
 "metadata": {
  "kernelspec": {
   "display_name": "Python 3",
   "language": "python",
   "name": "python3"
  },
  "language_info": {
   "codemirror_mode": {
    "name": "ipython",
    "version": 3
   },
   "file_extension": ".py",
   "mimetype": "text/x-python",
   "name": "python",
   "nbconvert_exporter": "python",
   "pygments_lexer": "ipython3",
   "version": "3.12.6"
  }
 },
 "nbformat": 4,
 "nbformat_minor": 2
}
