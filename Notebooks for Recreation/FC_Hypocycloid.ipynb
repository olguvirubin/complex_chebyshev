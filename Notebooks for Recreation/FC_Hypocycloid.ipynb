{
 "cells": [
  {
   "cell_type": "code",
   "execution_count": null,
   "id": "b7311079",
   "metadata": {},
   "outputs": [],
   "source": [
    "import numpy as np\n",
    "import matplotlib.pyplot as plt\n",
    "import pickle\n",
    "from time import time\n",
    "from ComCheb import mpRemez\n",
    "from ComCheb.Contours import mpHypocycloid\n",
    "from mpmath import mp\n",
    "mp.pretty = 1\n",
    "\n",
    "\n",
    "storage = dict()"
   ]
  },
  {
   "cell_type": "code",
   "execution_count": null,
   "id": "5a87ba25",
   "metadata": {},
   "outputs": [],
   "source": [
    "## In order to update or refine reload\n",
    "with open('Data/FC_Hypocycloid.pkl','rb') as fp:\n",
    "    storage = pickle.load(fp)"
   ]
  },
  {
   "cell_type": "code",
   "execution_count": null,
   "id": "9e8fe883",
   "metadata": {},
   "outputs": [],
   "source": [
    "def FH_coef(n,m):\n",
    "    if n ==0:\n",
    "        return np.array([m])\n",
    "    elif n<m:\n",
    "        return np.array(n*[0]+[mp.mpf(1)])\n",
    "    else:\n",
    "        tmp1 = np.hstack([0,FH_coef(n-1,m)])\n",
    "        tmp2 = 1/mp.mpf(m-1)*np.hstack([FH_coef(n-m,m)]+m*[0])\n",
    "        return  tmp1-tmp2"
   ]
  },
  {
   "cell_type": "code",
   "execution_count": null,
   "id": "39372d74",
   "metadata": {},
   "outputs": [],
   "source": [
    "mp.dps = 80\n",
    "n  = 10\n",
    "m  = 5\n",
    "R  = np.linspace(1,50,99)\n",
    "FH = FH_coef(n,m)\n",
    "FH = FH[FH!=0]\n",
    "\n",
    "prec = 1e-50\n",
    "\n",
    "\n",
    "t  = None\n",
    "a  = None\n",
    "for r in R:\n",
    "    if r in storage.keys():\n",
    "        t,a = storage[r][:2]\n",
    "    t1 = time()\n",
    "    gamma = mpHypocycloid(m=m,r=r)\n",
    "    t,a,L,h,rel_err = mpRemez(gamma,n,t=t,a=a,symmetry=m,rc=1,prec=prec,Mmax=1000,reps=40,plot=0,pinfo=0,samples=2001)\n",
    "    \n",
    "    storage[r] = (t,a,L,h,rel_err,max(abs(FH-np.hstack([-L,1]))))\n",
    "    print(r,'  \\t',f'{float(storage[r][-1]):.8e}','\\t',f'{rel_err:.4e}','\\t',int(time()-t1))\n",
    "\n",
    "\n",
    "with open('Data/FC_Hypocycloid.pkl','wb') as fp:\n",
    "    pickle.dump(storage,fp)"
   ]
  }
 ],
 "metadata": {
  "kernelspec": {
   "display_name": "Python 3",
   "language": "python",
   "name": "python3"
  },
  "language_info": {
   "codemirror_mode": {
    "name": "ipython",
    "version": 3
   },
   "file_extension": ".py",
   "mimetype": "text/x-python",
   "name": "python",
   "nbconvert_exporter": "python",
   "pygments_lexer": "ipython3",
   "version": "3.12.6"
  }
 },
 "nbformat": 4,
 "nbformat_minor": 5
}
