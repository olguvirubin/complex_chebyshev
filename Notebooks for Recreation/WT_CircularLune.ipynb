{
 "cells": [
  {
   "cell_type": "code",
   "execution_count": null,
   "metadata": {},
   "outputs": [],
   "source": [
    "import numpy as np\n",
    "import pickle\n",
    "from mpmath import mp\n",
    "from ComCheb import mpRemez\n",
    "from ComCheb.Contours import mpCircLune\n",
    "from time import time\n",
    "mp.pretty = 1\n",
    "\n",
    "# Execute this just once. Sometime the calculations below have to be restarted,\n",
    "# for example in case of bad initial guesses.\n",
    "storage = dict()"
   ]
  },
  {
   "cell_type": "code",
   "execution_count": null,
   "metadata": {},
   "outputs": [],
   "source": [
    "## In order to update or refine reload\n",
    "with open('Data/WT_CircularLune.pkl','rb') as fp:\n",
    "    storage = pickle.load(fp)"
   ]
  },
  {
   "cell_type": "code",
   "execution_count": null,
   "metadata": {},
   "outputs": [],
   "source": [
    "mp.dps = 50\n",
    "A = [1/2,3/2]\n",
    "N = [5,10,25,50,90,120]\n",
    "print('m      n   \\t\\t ||T||\\t\\t\\t calc time')\n",
    "for alpha in A:\n",
    "    for n in N:\n",
    "        if (alpha,n)in storage.keys():\n",
    "            t,a = storage[(alpha,n)][:2]\n",
    "        else:\n",
    "            t,a =None,None\n",
    "        t1                 = time()\n",
    "        gamma              = mpCircLune(alpha)\n",
    "        res                = mpRemez(gamma,n,t=t,a=a,symmetry=2,reps=30,prec=1e-10,plot=0,pinfo=0,Mmax=1500,rc=1)\n",
    "        storage[(alpha,n)] = res\n",
    "        print(alpha,'  ',n,'  \\t\\t',f'{float(res[3]):.10f}','\\t\\t',round(time()-t1))\n",
    "\n",
    "# Storing Results!\n",
    "with open('Data/WT_CircularLune.pkl','wb') as fp:\n",
    "    pickle.dump(storage,fp)"
   ]
  }
 ],
 "metadata": {
  "kernelspec": {
   "display_name": "Python 3",
   "language": "python",
   "name": "python3"
  },
  "language_info": {
   "codemirror_mode": {
    "name": "ipython",
    "version": 3
   },
   "file_extension": ".py",
   "mimetype": "text/x-python",
   "name": "python",
   "nbconvert_exporter": "python",
   "pygments_lexer": "ipython3",
   "version": "3.12.6"
  }
 },
 "nbformat": 4,
 "nbformat_minor": 2
}
