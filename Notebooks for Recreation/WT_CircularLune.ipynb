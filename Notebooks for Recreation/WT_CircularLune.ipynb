{
 "cells": [
  {
   "cell_type": "code",
   "execution_count": null,
   "metadata": {},
   "outputs": [],
   "source": [
    "import numpy as np\n",
    "import pickle\n",
    "from mpmath import mp\n",
    "from ComCheb import mpRemez,Remez\n",
    "from ComCheb.Contours import mpCircLune,CircLune\n",
    "from time import time\n",
    "mp.pretty = 1\n",
    "\n",
    "# Execute this just once. Sometime the calculations below have to be restarted,\n",
    "# for example in case of bad initial guesses.\n",
    "storage = dict()"
   ]
  },
  {
   "cell_type": "code",
   "execution_count": null,
   "metadata": {},
   "outputs": [
    {
     "name": "stdout",
     "output_type": "stream",
     "text": [
      "m      n   \t\t ||T||\t\t\t calc time\n",
      "1.5    50   \t\t 1.0121598320 \t\t 1342\n",
      "1.5    90   \t\t 1.0067387688 \t\t 3525\n",
      "1.5    120   \t\t 1.0050500444 \t\t 34029\n"
     ]
    }
   ],
   "source": [
    "mp.dps = 50\n",
    "A = [1/2,3/2]\n",
    "N = [5,10,25,50,90,120]\n",
    "print('m      n   \\t\\t ||T||\\t\\t\\t calc time')\n",
    "for alpha in A:\n",
    "    for n in N:\n",
    "        if (alpha,n)in storage.keys():\n",
    "            continue\n",
    "        t1                 = time()\n",
    "        #gamma              = CircLune(alpha)\n",
    "        #t,a                = Remez(gamma,n,symmetry=2,prec= 1e-5,Mmax=1000,plot=0,pinfo=0,rc=1)[:2]\n",
    "        gamma              = mpCircLune(alpha)\n",
    "        res                = mpRemez(gamma,n,symmetry=2,reps=30,prec=1e-10,plot=0,pinfo=0,Mmax=1500,rc=1)[:-1]\n",
    "        storage[(alpha,n)] = res\n",
    "        print(alpha,'  ',n,'  \\t\\t',f'{float(res[3]):.10f}','\\t\\t',round(time()-t1))\n",
    "\n",
    "# Storing Results!\n",
    "with open('Data/WT_CircularLune.pkl','wb') as fp:\n",
    "    pickle.dump(storage,fp)"
   ]
  },
  {
   "cell_type": "code",
   "execution_count": null,
   "metadata": {},
   "outputs": [],
   "source": [
    "m      n   \t    \t ||T||\t\t\t calc time\n",
    "0.5    5   \t\t     1.1028695795 \t\t 11\n",
    "0.5    10   \t\t 1.0369688798 \t\t 33\n",
    "0.5    25   \t\t 1.0340545077 \t\t 111\n",
    "0.5    50   \t\t 1.0144255584 \t\t 493\n",
    "0.5    90   \t\t 1.0093634651 \t\t 2872\n",
    "0.5    120   \t\t 1.0074906469 \t\t 25197\n",
    "1.5    5   \t\t     1.1256987874 \t\t 28\n",
    "1.5    10   \t\t 1.0618538783 \t\t 194"
   ]
  },
  {
   "cell_type": "markdown",
   "metadata": {},
   "source": [
    "m      n   \t    \t ||T||\t\t\t     calc time\n",
    "0.5    5    \t\t 1.1028695795 \t\t 30\n",
    "0.5    10   \t\t 1.0369688799 \t\t 545\n",
    "0.5    25   \t\t 1.0340545072 \t\t 1257\n",
    "0.5    50   \t\t 1.0144255582 \t\t 4921\n",
    "0.5    90   \t\t 1.0093634641 \t\t 271121"
   ]
  }
 ],
 "metadata": {
  "kernelspec": {
   "display_name": "Python 3",
   "language": "python",
   "name": "python3"
  },
  "language_info": {
   "codemirror_mode": {
    "name": "ipython",
    "version": 3
   },
   "file_extension": ".py",
   "mimetype": "text/x-python",
   "name": "python",
   "nbconvert_exporter": "python",
   "pygments_lexer": "ipython3",
   "version": "3.12.6"
  }
 },
 "nbformat": 4,
 "nbformat_minor": 2
}
