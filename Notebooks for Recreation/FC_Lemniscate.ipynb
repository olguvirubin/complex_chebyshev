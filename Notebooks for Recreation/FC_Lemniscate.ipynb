{
 "cells": [
  {
   "cell_type": "code",
   "execution_count": null,
   "id": "d77c7468",
   "metadata": {},
   "outputs": [],
   "source": [
    "import numpy as np\n",
    "import matplotlib.pyplot as plt\n",
    "import pickle\n",
    "from time import time\n",
    "from ComCheb import mpRemez,Cheby\n",
    "from ComCheb.Contours import mpLemniscate\n",
    "from mpmath import mp\n",
    "mp.pretty = 1\n",
    "\n",
    "\n",
    "storage = dict()"
   ]
  },
  {
   "cell_type": "code",
   "execution_count": null,
   "id": "ecbb3755",
   "metadata": {},
   "outputs": [],
   "source": [
    "def FL_coef(n,m):\n",
    "    FL = np.zeros(n+1,dtype='O')\n",
    "    for j in range(n//m+1):\n",
    "        FL[m*(n//m-j)+n-(m*(n//m))] =(-1)**j*mp.binomial(n//m+(n-(m*(n//m)))/mp.mpf(m),j)\n",
    "    return FL"
   ]
  },
  {
   "cell_type": "code",
   "execution_count": null,
   "id": "1fe00b18",
   "metadata": {},
   "outputs": [],
   "source": [
    "mp.dps = 50\n",
    "m = 2\n",
    "n = 11\n",
    "R = np.linspace(1,50,99)\n",
    "FL = FL_coef(n,m)\n",
    "FL = FL[FL!=0]\n",
    "\n",
    "prec = 1e-40\n",
    "\n",
    "t  = None\n",
    "a  = None\n",
    "for r in R:\n",
    "    if r in storage.keys():\n",
    "        t,a = storage[r][:2]\n",
    "    t1 = time()\n",
    "    gamma = mpLemniscate(r=r)\n",
    "    t,a,L,h,_ = mpRemez(gamma,n,t=t,a=a,symmetry=m,rc=1,prec=prec,Mmax=1000,reps=30,plot=0,pinfo=0)\n",
    "    \n",
    "    storage[r] = (t,a,L,h,max(abs(FL-np.hstack([-L,1]))))\n",
    "    print(r,'  \\t',f'{float(storage[r][-1]):.8e}','\\t',int(time()-t1))\n",
    "\n",
    "\n",
    "with open('Data/FC_Lemniscate.pkl','wb') as fp:\n",
    "    pickle.dump(storage,fp)"
   ]
  }
 ],
 "metadata": {
  "kernelspec": {
   "display_name": "Python 3",
   "language": "python",
   "name": "python3"
  },
  "language_info": {
   "codemirror_mode": {
    "name": "ipython",
    "version": 3
   },
   "file_extension": ".py",
   "mimetype": "text/x-python",
   "name": "python",
   "nbconvert_exporter": "python",
   "pygments_lexer": "ipython3",
   "version": "3.12.6"
  }
 },
 "nbformat": 4,
 "nbformat_minor": 5
}
