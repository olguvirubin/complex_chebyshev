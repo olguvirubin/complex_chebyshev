{
 "cells": [
  {
   "cell_type": "code",
   "execution_count": null,
   "metadata": {},
   "outputs": [],
   "source": [
    "import numpy as np\n",
    "import pickle\n",
    "from mpmath import mp\n",
    "from ComCheb import mpRemez,Remez\n",
    "from ComCheb.Contours import mpCircLune,CircLune\n",
    "from time import time\n",
    "mp.pretty = 1\n",
    "\n",
    "# Execute this just once. Sometime the calculations below have to be restarted,\n",
    "# for example in case of bad initial guesses.\n",
    "storage = dict()"
   ]
  },
  {
   "cell_type": "code",
   "execution_count": null,
   "metadata": {},
   "outputs": [],
   "source": [
    "## In order to update or refine reload\n",
    "with open('Data/WA_CircularLune1.pkl','rb') as fp:\n",
    "    storage = pickle.load(fp)"
   ]
  },
  {
   "cell_type": "code",
   "execution_count": null,
   "metadata": {},
   "outputs": [],
   "source": [
    "mp.dps = 50\n",
    "A = [1/2]\n",
    "N = np.arange(1,101)\n",
    "prec = 1e-7\n",
    "print('m      n   \\t\\t ||T|| \\t \\t\\t rel. err.\\t\\t calc time')\n",
    "for alpha in A:\n",
    "    for n in N:\n",
    "        if (alpha,n)in storage.keys():\n",
    "            t,a = storage[(alpha,n)][:2]\n",
    "        else:\n",
    "            t,a = None,None\n",
    "        t1                 = time()\n",
    "\n",
    "        gamma              = mpCircLune(alpha)\n",
    "        res                = mpRemez(gamma,n,t=t,a=a,symmetry=2,reps=30,prec=prec\n",
    "                                    ,plot=0,pinfo=0,Mmax=1500,rc=1)\n",
    "        storage[(alpha,n)] = res\n",
    "        rel_err            = res[-1]\n",
    "        print(alpha,'  ',n,'  \\t\\t',f'{float(res[3]):.10f}','\\t\\t',f'{rel_err:.4e}','\\t\\t',round(time()-t1))\n",
    "\n",
    "# Storing Results!\n",
    "with open('Data/WA_CircularLune1.pkl','wb') as fp:\n",
    "    pickle.dump(storage,fp)"
   ]
  }
 ],
 "metadata": {
  "kernelspec": {
   "display_name": "Python 3",
   "language": "python",
   "name": "python3"
  },
  "language_info": {
   "codemirror_mode": {
    "name": "ipython",
    "version": 3
   },
   "file_extension": ".py",
   "mimetype": "text/x-python",
   "name": "python",
   "nbconvert_exporter": "python",
   "pygments_lexer": "ipython3",
   "version": "3.12.6"
  }
 },
 "nbformat": 4,
 "nbformat_minor": 2
}
